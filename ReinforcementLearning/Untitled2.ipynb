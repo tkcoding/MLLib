{
 "cells": [
  {
   "cell_type": "code",
   "execution_count": 2,
   "metadata": {},
   "outputs": [
    {
     "data": {
      "text/plain": [
       "array([-0.56708368,  0.        ])"
      ]
     },
     "execution_count": 2,
     "metadata": {},
     "output_type": "execute_result"
    }
   ],
   "source": [
    "import gym\n",
    "env = gym.make('MountainCar-v0')\n",
    "env.reset()"
   ]
  },
  {
   "cell_type": "code",
   "execution_count": 5,
   "metadata": {},
   "outputs": [
    {
     "name": "stdout",
     "output_type": "stream",
     "text": [
      "observation: [-0.57494713  0.        ]\n",
      "action: 2\n",
      "step results: [-0.57356354  0.00138359] -1.0 False {}\n",
      "action: 0\n",
      "step results: [-0.57280661  0.00075693] -1.0 False {}\n",
      "action: 1\n",
      "step results: [-0.57168197  0.00112465] -1.0 False {}\n",
      "action: 2\n",
      "step results: [-0.56919795  0.00248402] -1.0 False {}\n",
      "action: 0\n",
      "step results: [-0.567373    0.00182495] -1.0 False {}\n"
     ]
    },
    {
     "data": {
      "text/plain": [
       "True"
      ]
     },
     "execution_count": 5,
     "metadata": {},
     "output_type": "execute_result"
    }
   ],
   "source": [
    "observation = env.reset()\n",
    "print(\"observation:\", observation)\n",
    "for t in range(5):\n",
    "    action = env.action_space.sample()\n",
    "    print(\"action:\", action)\n",
    "    observation, reward, done, info = env.step(action)\n",
    "    print(\"step results:\", observation, reward, done, info)\n",
    "env.render()\n",
    "\n"
   ]
  },
  {
   "cell_type": "code",
   "execution_count": 1,
   "metadata": {},
   "outputs": [
    {
     "data": {
      "text/plain": [
       "\"\\n# Define Q-learning function\\ndef QLearning(env, learning, discount, epsilon, min_eps, episodes):\\n    # Determine size of discretized state space\\n    num_states = (env.observation_space.high - env.observation_space.low)*                    np.array([10, 100])\\n    num_states = np.round(num_states, 0).astype(int) + 1\\n    \\n    # Initialize Q table\\n    Q = np.random.uniform(low = -1, high = 1, \\n                          size = (num_states[0], num_states[1], \\n                                  env.action_space.n))\\n    \\n    # Initialize variables to track rewards\\n    reward_list = []\\n    ave_reward_list = []\\n    \\n    # Calculate episodic reduction in epsilon\\n    reduction = (epsilon - min_eps)/episodes\\n    \\n    # Run Q learning algorithm\\n    for i in range(episodes):\\n        # Initialize parameters\\n        done = False\\n        tot_reward, reward = 0,0\\n        state = env.reset()\\n        \\n        # Discretize state\\n        state_adj = (state - env.observation_space.low)*np.array([10, 100])\\n        state_adj = np.round(state_adj, 0).astype(int)\\n    \\n        while done != True:   \\n            # Render environment for last five episodes\\n            if i >= (episodes - 20):\\n                env.render()\\n                \\n            # Determine next action - epsilon greedy strategy\\n            if np.random.random() < 1 - epsilon:\\n                action = np.argmax(Q[state_adj[0], state_adj[1]]) \\n            else:\\n                action = np.random.randint(0, env.action_space.n)\\n                \\n            # Get next state and reward\\n            state2, reward, done, info = env.step(action) \\n            \\n            # Discretize state2\\n            state2_adj = (state2 - env.observation_space.low)*np.array([10, 100])\\n            state2_adj = np.round(state2_adj, 0).astype(int)\\n            \\n            #Allow for terminal states\\n            if done and state2[0] >= 0.5:\\n                Q[state_adj[0], state_adj[1], action] = reward\\n                \\n            # Adjust Q value for current state\\n            else:\\n                delta = learning*(reward + \\n                                 discount*np.max(Q[state2_adj[0], \\n                                                   state2_adj[1]]) - \\n                                 Q[state_adj[0], state_adj[1],action])\\n                Q[state_adj[0], state_adj[1],action] += delta\\n                                     \\n            # Update variables\\n            tot_reward += reward\\n            state_adj = state2_adj\\n        \\n        # Decay epsilon\\n        if epsilon > min_eps:\\n            epsilon -= reduction\\n        \\n        # Track rewards\\n        reward_list.append(tot_reward)\\n        \\n        if (i+1) % 100 == 0:\\n            ave_reward = np.mean(reward_list)\\n            ave_reward_list.append(ave_reward)\\n            reward_list = []\\n            \\n        if (i+1) % 100 == 0:    \\n            print('Episode {} Average Reward: {}'.format(i+1, ave_reward))\\n            \\n    env.close()\\n    \\n    return ave_reward_list\\n\\n# Run Q-learning algorithm\\nrewards = QLearning(env, 0.2, 0.9, 0.8, 0, 5000)\\n\\n# Plot Rewards\\nplt.plot(100*(np.arange(len(rewards)) + 1), rewards)\\nplt.xlabel('Episodes')\\nplt.ylabel('Average Reward')\\nplt.title('Average Reward vs Episodes')\\nplt.savefig('rewards.jpg')     \\nplt.close()  \\n\""
      ]
     },
     "execution_count": 1,
     "metadata": {},
     "output_type": "execute_result"
    }
   ],
   "source": [
    "import numpy as np\n",
    "import gym\n",
    "import matplotlib.pyplot as plt\n",
    "\n",
    "# Import and initialize Mountain Car Environment\n",
    "env = gym.make('MountainCar-v0')\n",
    "env.reset()\n",
    "env.render()\n",
    "'''\n",
    "# Define Q-learning function\n",
    "def QLearning(env, learning, discount, epsilon, min_eps, episodes):\n",
    "    # Determine size of discretized state space\n",
    "    num_states = (env.observation_space.high - env.observation_space.low)*\\\n",
    "                    np.array([10, 100])\n",
    "    num_states = np.round(num_states, 0).astype(int) + 1\n",
    "    \n",
    "    # Initialize Q table\n",
    "    Q = np.random.uniform(low = -1, high = 1, \n",
    "                          size = (num_states[0], num_states[1], \n",
    "                                  env.action_space.n))\n",
    "    \n",
    "    # Initialize variables to track rewards\n",
    "    reward_list = []\n",
    "    ave_reward_list = []\n",
    "    \n",
    "    # Calculate episodic reduction in epsilon\n",
    "    reduction = (epsilon - min_eps)/episodes\n",
    "    \n",
    "    # Run Q learning algorithm\n",
    "    for i in range(episodes):\n",
    "        # Initialize parameters\n",
    "        done = False\n",
    "        tot_reward, reward = 0,0\n",
    "        state = env.reset()\n",
    "        \n",
    "        # Discretize state\n",
    "        state_adj = (state - env.observation_space.low)*np.array([10, 100])\n",
    "        state_adj = np.round(state_adj, 0).astype(int)\n",
    "    \n",
    "        while done != True:   \n",
    "            # Render environment for last five episodes\n",
    "            if i >= (episodes - 20):\n",
    "                env.render()\n",
    "                \n",
    "            # Determine next action - epsilon greedy strategy\n",
    "            if np.random.random() < 1 - epsilon:\n",
    "                action = np.argmax(Q[state_adj[0], state_adj[1]]) \n",
    "            else:\n",
    "                action = np.random.randint(0, env.action_space.n)\n",
    "                \n",
    "            # Get next state and reward\n",
    "            state2, reward, done, info = env.step(action) \n",
    "            \n",
    "            # Discretize state2\n",
    "            state2_adj = (state2 - env.observation_space.low)*np.array([10, 100])\n",
    "            state2_adj = np.round(state2_adj, 0).astype(int)\n",
    "            \n",
    "            #Allow for terminal states\n",
    "            if done and state2[0] >= 0.5:\n",
    "                Q[state_adj[0], state_adj[1], action] = reward\n",
    "                \n",
    "            # Adjust Q value for current state\n",
    "            else:\n",
    "                delta = learning*(reward + \n",
    "                                 discount*np.max(Q[state2_adj[0], \n",
    "                                                   state2_adj[1]]) - \n",
    "                                 Q[state_adj[0], state_adj[1],action])\n",
    "                Q[state_adj[0], state_adj[1],action] += delta\n",
    "                                     \n",
    "            # Update variables\n",
    "            tot_reward += reward\n",
    "            state_adj = state2_adj\n",
    "        \n",
    "        # Decay epsilon\n",
    "        if epsilon > min_eps:\n",
    "            epsilon -= reduction\n",
    "        \n",
    "        # Track rewards\n",
    "        reward_list.append(tot_reward)\n",
    "        \n",
    "        if (i+1) % 100 == 0:\n",
    "            ave_reward = np.mean(reward_list)\n",
    "            ave_reward_list.append(ave_reward)\n",
    "            reward_list = []\n",
    "            \n",
    "        if (i+1) % 100 == 0:    \n",
    "            print('Episode {} Average Reward: {}'.format(i+1, ave_reward))\n",
    "            \n",
    "    env.close()\n",
    "    \n",
    "    return ave_reward_list\n",
    "\n",
    "# Run Q-learning algorithm\n",
    "rewards = QLearning(env, 0.2, 0.9, 0.8, 0, 5000)\n",
    "\n",
    "# Plot Rewards\n",
    "plt.plot(100*(np.arange(len(rewards)) + 1), rewards)\n",
    "plt.xlabel('Episodes')\n",
    "plt.ylabel('Average Reward')\n",
    "plt.title('Average Reward vs Episodes')\n",
    "plt.savefig('rewards.jpg')     \n",
    "plt.close()  \n",
    "'''"
   ]
  },
  {
   "cell_type": "code",
   "execution_count": null,
   "metadata": {},
   "outputs": [],
   "source": []
  }
 ],
 "metadata": {
  "kernelspec": {
   "display_name": "Python 3",
   "language": "python",
   "name": "python3"
  },
  "language_info": {
   "codemirror_mode": {
    "name": "ipython",
    "version": 3
   },
   "file_extension": ".py",
   "mimetype": "text/x-python",
   "name": "python",
   "nbconvert_exporter": "python",
   "pygments_lexer": "ipython3",
   "version": "3.8.5"
  }
 },
 "nbformat": 4,
 "nbformat_minor": 4
}
