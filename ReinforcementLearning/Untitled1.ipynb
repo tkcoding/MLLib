{
 "cells": [
  {
   "cell_type": "code",
   "execution_count": null,
   "metadata": {},
   "outputs": [],
   "source": [
    "import gym\n",
    "env = gym.make(‘MountainCar-v0’)\n",
    "env.reset()"
   ]
  },
  {
   "cell_type": "code",
   "execution_count": null,
   "metadata": {},
   "outputs": [],
   "source": []
  }
 ],
 "metadata": {
  "kernelspec": {
   "display_name": "gputensorflow",
   "language": "python",
   "name": "gputensorflow"
  }
 },
 "nbformat": 4,
 "nbformat_minor": 4
}
