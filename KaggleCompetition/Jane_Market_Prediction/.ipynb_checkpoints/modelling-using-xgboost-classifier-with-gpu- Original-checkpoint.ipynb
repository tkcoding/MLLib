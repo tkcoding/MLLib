{
 "cells": [
  {
   "cell_type": "markdown",
   "metadata": {},
   "source": [
    "# Table of content\n",
    "\n",
    "1. Data processing and manipulation\n",
    "2. Model training with initial setting\n",
    "3. RandomizedSearchCv to search for best hyper parameter\n",
    "4. Model training with tuned setting\n",
    "5. Model error comparison between initial setting and tuned hyper-parameter model\n",
    "6. Tuned-model feature importance visualization"
   ]
  },
  {
   "cell_type": "markdown",
   "metadata": {},
   "source": [
    "### Part 1:Data processing and manipulation"
   ]
  },
  {
   "cell_type": "code",
   "execution_count": 1,
   "metadata": {
    "_cell_guid": "b1076dfc-b9ad-4769-8c92-a6c4dae69d19",
    "_uuid": "8f2839f25d086af736a60e9eeb907d3b93b6e0e5"
   },
   "outputs": [],
   "source": [
    "# This Python 3 environment comes with many helpful analytics libraries installed\n",
    "# It is defined by the kaggle/python Docker image: https://github.com/kaggle/docker-python\n",
    "# For example, here's several helpful packages to load\n",
    "# import janestreet\n",
    "import numpy as np # linear algebra\n",
    "import pandas as pd # data processing, CSV file I/O (e.g. pd.read_csv)\n",
    "from sklearn.metrics import accuracy_score\n",
    "from sklearn.metrics import plot_confusion_matrix\n",
    "from sklearn.model_selection import train_test_split\n",
    "from sklearn.impute import SimpleImputer\n",
    "import matplotlib.pyplot as plt\n",
    "import time\n",
    "# from xgboost import XGBRegressor# Input data files are available in the read-only \"../input/\" directory\n",
    "# # For example, running this (by clicking run or pressing Shift+Enter) will list all files under the input directory\n",
    "\n",
    "# import os\n",
    "# for dirname, _, filenames in os.walk('/kaggle/input'):\n",
    "#     for filename in filenames:\n",
    "#         print(os.path.join(dirname, filename))\n",
    "\n",
    "# # You can write up to 20GB to the current directory (/kaggle/working/) that gets preserved as output when you create a version using \"Save & Run All\" \n",
    "# # You can also write temporary files to /kaggle/temp/, but they won't be saved outside of the current session"
   ]
  },
  {
   "cell_type": "code",
   "execution_count": 2,
   "metadata": {
    "_cell_guid": "79c7e3d0-c299-4dcb-8224-4455121ee9b0",
    "_uuid": "d629ff2d2480ee46fbb7e2d37f6b5fab8052498a"
   },
   "outputs": [
    {
     "name": "stdout",
     "output_type": "stream",
     "text": [
      "--- 48.96365714073181 seconds ---\n"
     ]
    }
   ],
   "source": [
    "chunksize = 10 ** 6\n",
    "filename = r'C:/Users/User/Desktop/Kaggle Dataset/train.csv'\n",
    "data_chunk = []\n",
    "start_time = time.time()\n",
    "data_chunk = pd.read_csv(filename)\n",
    "print(\"--- %s seconds ---\" % (time.time() - start_time))"
   ]
  },
  {
   "cell_type": "markdown",
   "metadata": {},
   "source": [
    "***\n",
    "Start with processing the label , since evaluation is only fixed to either buy or pass\n",
    "\n",
    "Define a function to return either 0 = Pass , 1 = Buy \n",
    "\n",
    "**Buy = weight * resp > 0**\n",
    "\n",
    "**Pass = weight * resp <= 0** \n",
    "***"
   ]
  },
  {
   "cell_type": "code",
   "execution_count": 3,
   "metadata": {},
   "outputs": [],
   "source": [
    "def buy_or_pass(df):\n",
    "    if df['action'] > 0:\n",
    "        return 1\n",
    "    else:\n",
    "        return 0"
   ]
  },
  {
   "cell_type": "markdown",
   "metadata": {},
   "source": [
    "Process on feature and action for model learning"
   ]
  },
  {
   "cell_type": "code",
   "execution_count": 4,
   "metadata": {},
   "outputs": [
    {
     "name": "stdout",
     "output_type": "stream",
     "text": [
      "Features columns :  Index(['feature_0', 'feature_1', 'feature_2', 'feature_3', 'feature_4',\n",
      "       'feature_5', 'feature_6', 'feature_7', 'feature_8', 'feature_9',\n",
      "       ...\n",
      "       'feature_120', 'feature_121', 'feature_122', 'feature_123',\n",
      "       'feature_124', 'feature_125', 'feature_126', 'feature_127',\n",
      "       'feature_128', 'feature_129'],\n",
      "      dtype='object', length=130)\n",
      "Action counts : \n",
      " action\n",
      "1         999387\n",
      "0         981900\n",
      "dtype: int64\n"
     ]
    }
   ],
   "source": [
    "# Data mentioned the return will be based on weight and resp columns . create another column call return \n",
    "def feature_action_split(dataframe_market):\n",
    "    '''\n",
    "    Input : Sample dataframe from Jane market prediction data\n",
    "    Output : feature = not response , weight , date or ts_id\n",
    "             action = 0 for pass and 1 for buy\n",
    "    '''\n",
    "#     dataframe_market = dataframe_market[dataframe_market['weight'] > 0]\n",
    "    dataframe_market['action'] = dataframe_market['weight']*dataframe_market['resp']\n",
    "    dataframe_market['action'] = dataframe_market.apply(buy_or_pass,axis=1) \n",
    "    feature = dataframe_market.drop(['date','weight','resp_1','resp_2','resp_3','resp_4','resp','ts_id','action'],axis=1)\n",
    "    print(\"Features columns : \",feature.columns)\n",
    "    action = dataframe_market[['action']]\n",
    "    print(\"Action counts : \\n\",action.value_counts())\n",
    "    return feature,action\n",
    "data_chunk = data_chunk[data_chunk['weight'] > 0]\n",
    "feature,action = feature_action_split(data_chunk)\n"
   ]
  },
  {
   "cell_type": "code",
   "execution_count": 5,
   "metadata": {},
   "outputs": [
    {
     "data": {
      "text/html": [
       "<div>\n",
       "<style scoped>\n",
       "    .dataframe tbody tr th:only-of-type {\n",
       "        vertical-align: middle;\n",
       "    }\n",
       "\n",
       "    .dataframe tbody tr th {\n",
       "        vertical-align: top;\n",
       "    }\n",
       "\n",
       "    .dataframe thead th {\n",
       "        text-align: right;\n",
       "    }\n",
       "</style>\n",
       "<table border=\"1\" class=\"dataframe\">\n",
       "  <thead>\n",
       "    <tr style=\"text-align: right;\">\n",
       "      <th></th>\n",
       "      <th>date</th>\n",
       "      <th>weight</th>\n",
       "      <th>resp_1</th>\n",
       "      <th>resp_2</th>\n",
       "      <th>resp_3</th>\n",
       "      <th>resp_4</th>\n",
       "      <th>resp</th>\n",
       "      <th>feature_0</th>\n",
       "      <th>feature_1</th>\n",
       "      <th>feature_2</th>\n",
       "      <th>...</th>\n",
       "      <th>feature_122</th>\n",
       "      <th>feature_123</th>\n",
       "      <th>feature_124</th>\n",
       "      <th>feature_125</th>\n",
       "      <th>feature_126</th>\n",
       "      <th>feature_127</th>\n",
       "      <th>feature_128</th>\n",
       "      <th>feature_129</th>\n",
       "      <th>ts_id</th>\n",
       "      <th>action</th>\n",
       "    </tr>\n",
       "  </thead>\n",
       "  <tbody>\n",
       "    <tr>\n",
       "      <th>1</th>\n",
       "      <td>0</td>\n",
       "      <td>16.673515</td>\n",
       "      <td>-0.002828</td>\n",
       "      <td>-0.003226</td>\n",
       "      <td>-0.007319</td>\n",
       "      <td>-0.011114</td>\n",
       "      <td>-0.009792</td>\n",
       "      <td>-1</td>\n",
       "      <td>-1.349537</td>\n",
       "      <td>-1.704709</td>\n",
       "      <td>...</td>\n",
       "      <td>-1.178850</td>\n",
       "      <td>1.777472</td>\n",
       "      <td>-0.915458</td>\n",
       "      <td>2.831612</td>\n",
       "      <td>-1.417010</td>\n",
       "      <td>2.297459</td>\n",
       "      <td>-1.304614</td>\n",
       "      <td>1.898684</td>\n",
       "      <td>1</td>\n",
       "      <td>0</td>\n",
       "    </tr>\n",
       "    <tr>\n",
       "      <th>4</th>\n",
       "      <td>0</td>\n",
       "      <td>0.138531</td>\n",
       "      <td>0.001252</td>\n",
       "      <td>0.002165</td>\n",
       "      <td>-0.001215</td>\n",
       "      <td>-0.006219</td>\n",
       "      <td>-0.002604</td>\n",
       "      <td>1</td>\n",
       "      <td>-3.172026</td>\n",
       "      <td>-3.093182</td>\n",
       "      <td>...</td>\n",
       "      <td>0.344850</td>\n",
       "      <td>4.101145</td>\n",
       "      <td>0.614252</td>\n",
       "      <td>6.623456</td>\n",
       "      <td>0.800129</td>\n",
       "      <td>5.233243</td>\n",
       "      <td>0.362636</td>\n",
       "      <td>3.926633</td>\n",
       "      <td>4</td>\n",
       "      <td>0</td>\n",
       "    </tr>\n",
       "    <tr>\n",
       "      <th>6</th>\n",
       "      <td>0</td>\n",
       "      <td>0.190575</td>\n",
       "      <td>-0.001939</td>\n",
       "      <td>-0.002301</td>\n",
       "      <td>0.001088</td>\n",
       "      <td>0.005963</td>\n",
       "      <td>0.000709</td>\n",
       "      <td>-1</td>\n",
       "      <td>-3.172026</td>\n",
       "      <td>-3.093182</td>\n",
       "      <td>...</td>\n",
       "      <td>0.336873</td>\n",
       "      <td>4.076447</td>\n",
       "      <td>0.614783</td>\n",
       "      <td>6.622176</td>\n",
       "      <td>0.800618</td>\n",
       "      <td>5.231595</td>\n",
       "      <td>0.361506</td>\n",
       "      <td>3.921714</td>\n",
       "      <td>6</td>\n",
       "      <td>1</td>\n",
       "    </tr>\n",
       "    <tr>\n",
       "      <th>7</th>\n",
       "      <td>0</td>\n",
       "      <td>3.820844</td>\n",
       "      <td>0.017395</td>\n",
       "      <td>0.021361</td>\n",
       "      <td>0.031163</td>\n",
       "      <td>0.036970</td>\n",
       "      <td>0.033473</td>\n",
       "      <td>-1</td>\n",
       "      <td>0.446050</td>\n",
       "      <td>-0.466210</td>\n",
       "      <td>...</td>\n",
       "      <td>2.101997</td>\n",
       "      <td>4.846202</td>\n",
       "      <td>1.479875</td>\n",
       "      <td>5.261328</td>\n",
       "      <td>2.305066</td>\n",
       "      <td>4.571762</td>\n",
       "      <td>2.201537</td>\n",
       "      <td>4.429745</td>\n",
       "      <td>7</td>\n",
       "      <td>1</td>\n",
       "    </tr>\n",
       "    <tr>\n",
       "      <th>8</th>\n",
       "      <td>0</td>\n",
       "      <td>0.116557</td>\n",
       "      <td>-0.005460</td>\n",
       "      <td>-0.007301</td>\n",
       "      <td>-0.009085</td>\n",
       "      <td>-0.003546</td>\n",
       "      <td>-0.001677</td>\n",
       "      <td>1</td>\n",
       "      <td>-3.172026</td>\n",
       "      <td>-3.093182</td>\n",
       "      <td>...</td>\n",
       "      <td>1.537913</td>\n",
       "      <td>4.785838</td>\n",
       "      <td>1.637435</td>\n",
       "      <td>6.968002</td>\n",
       "      <td>2.354338</td>\n",
       "      <td>5.825499</td>\n",
       "      <td>1.778029</td>\n",
       "      <td>4.740577</td>\n",
       "      <td>8</td>\n",
       "      <td>0</td>\n",
       "    </tr>\n",
       "    <tr>\n",
       "      <th>...</th>\n",
       "      <td>...</td>\n",
       "      <td>...</td>\n",
       "      <td>...</td>\n",
       "      <td>...</td>\n",
       "      <td>...</td>\n",
       "      <td>...</td>\n",
       "      <td>...</td>\n",
       "      <td>...</td>\n",
       "      <td>...</td>\n",
       "      <td>...</td>\n",
       "      <td>...</td>\n",
       "      <td>...</td>\n",
       "      <td>...</td>\n",
       "      <td>...</td>\n",
       "      <td>...</td>\n",
       "      <td>...</td>\n",
       "      <td>...</td>\n",
       "      <td>...</td>\n",
       "      <td>...</td>\n",
       "      <td>...</td>\n",
       "      <td>...</td>\n",
       "    </tr>\n",
       "    <tr>\n",
       "      <th>2390444</th>\n",
       "      <td>499</td>\n",
       "      <td>56.694795</td>\n",
       "      <td>0.001607</td>\n",
       "      <td>0.001607</td>\n",
       "      <td>-0.001245</td>\n",
       "      <td>-0.012068</td>\n",
       "      <td>-0.010023</td>\n",
       "      <td>-1</td>\n",
       "      <td>1.538675</td>\n",
       "      <td>2.530447</td>\n",
       "      <td>...</td>\n",
       "      <td>-0.984942</td>\n",
       "      <td>1.129901</td>\n",
       "      <td>-1.632432</td>\n",
       "      <td>-2.169964</td>\n",
       "      <td>-2.371293</td>\n",
       "      <td>-0.889212</td>\n",
       "      <td>-1.554352</td>\n",
       "      <td>0.215984</td>\n",
       "      <td>2390444</td>\n",
       "      <td>0</td>\n",
       "    </tr>\n",
       "    <tr>\n",
       "      <th>2390446</th>\n",
       "      <td>499</td>\n",
       "      <td>1.650055</td>\n",
       "      <td>0.004523</td>\n",
       "      <td>0.004523</td>\n",
       "      <td>0.003172</td>\n",
       "      <td>-0.013886</td>\n",
       "      <td>-0.013637</td>\n",
       "      <td>1</td>\n",
       "      <td>0.270380</td>\n",
       "      <td>-1.231874</td>\n",
       "      <td>...</td>\n",
       "      <td>1.724863</td>\n",
       "      <td>-0.984278</td>\n",
       "      <td>1.413825</td>\n",
       "      <td>-1.598825</td>\n",
       "      <td>2.087731</td>\n",
       "      <td>-1.126050</td>\n",
       "      <td>1.590538</td>\n",
       "      <td>-1.250209</td>\n",
       "      <td>2390446</td>\n",
       "      <td>0</td>\n",
       "    </tr>\n",
       "    <tr>\n",
       "      <th>2390478</th>\n",
       "      <td>499</td>\n",
       "      <td>0.895142</td>\n",
       "      <td>0.000486</td>\n",
       "      <td>0.000486</td>\n",
       "      <td>-0.004090</td>\n",
       "      <td>-0.008105</td>\n",
       "      <td>-0.005441</td>\n",
       "      <td>-1</td>\n",
       "      <td>-0.134380</td>\n",
       "      <td>0.160580</td>\n",
       "      <td>...</td>\n",
       "      <td>-0.765664</td>\n",
       "      <td>-2.148415</td>\n",
       "      <td>-0.599358</td>\n",
       "      <td>-3.155134</td>\n",
       "      <td>-0.957971</td>\n",
       "      <td>-2.285314</td>\n",
       "      <td>-0.894580</td>\n",
       "      <td>-2.064227</td>\n",
       "      <td>2390478</td>\n",
       "      <td>0</td>\n",
       "    </tr>\n",
       "    <tr>\n",
       "      <th>2390481</th>\n",
       "      <td>499</td>\n",
       "      <td>2.967272</td>\n",
       "      <td>0.000298</td>\n",
       "      <td>0.000298</td>\n",
       "      <td>-0.005393</td>\n",
       "      <td>-0.012472</td>\n",
       "      <td>-0.006681</td>\n",
       "      <td>-1</td>\n",
       "      <td>-0.779554</td>\n",
       "      <td>-0.597258</td>\n",
       "      <td>...</td>\n",
       "      <td>1.173186</td>\n",
       "      <td>-1.215499</td>\n",
       "      <td>0.170404</td>\n",
       "      <td>-3.433334</td>\n",
       "      <td>0.496345</td>\n",
       "      <td>-2.224752</td>\n",
       "      <td>1.207851</td>\n",
       "      <td>-1.264984</td>\n",
       "      <td>2390481</td>\n",
       "      <td>0</td>\n",
       "    </tr>\n",
       "    <tr>\n",
       "      <th>2390489</th>\n",
       "      <td>499</td>\n",
       "      <td>0.283405</td>\n",
       "      <td>-0.000156</td>\n",
       "      <td>-0.000156</td>\n",
       "      <td>-0.001375</td>\n",
       "      <td>-0.003702</td>\n",
       "      <td>-0.002004</td>\n",
       "      <td>-1</td>\n",
       "      <td>-1.463757</td>\n",
       "      <td>-1.107228</td>\n",
       "      <td>...</td>\n",
       "      <td>-1.780962</td>\n",
       "      <td>0.881246</td>\n",
       "      <td>-2.202140</td>\n",
       "      <td>-1.912601</td>\n",
       "      <td>-3.341684</td>\n",
       "      <td>-0.571188</td>\n",
       "      <td>-2.185795</td>\n",
       "      <td>0.627452</td>\n",
       "      <td>2390489</td>\n",
       "      <td>0</td>\n",
       "    </tr>\n",
       "  </tbody>\n",
       "</table>\n",
       "<p>1981287 rows × 139 columns</p>\n",
       "</div>"
      ],
      "text/plain": [
       "         date     weight    resp_1    resp_2    resp_3    resp_4      resp  \\\n",
       "1           0  16.673515 -0.002828 -0.003226 -0.007319 -0.011114 -0.009792   \n",
       "4           0   0.138531  0.001252  0.002165 -0.001215 -0.006219 -0.002604   \n",
       "6           0   0.190575 -0.001939 -0.002301  0.001088  0.005963  0.000709   \n",
       "7           0   3.820844  0.017395  0.021361  0.031163  0.036970  0.033473   \n",
       "8           0   0.116557 -0.005460 -0.007301 -0.009085 -0.003546 -0.001677   \n",
       "...       ...        ...       ...       ...       ...       ...       ...   \n",
       "2390444   499  56.694795  0.001607  0.001607 -0.001245 -0.012068 -0.010023   \n",
       "2390446   499   1.650055  0.004523  0.004523  0.003172 -0.013886 -0.013637   \n",
       "2390478   499   0.895142  0.000486  0.000486 -0.004090 -0.008105 -0.005441   \n",
       "2390481   499   2.967272  0.000298  0.000298 -0.005393 -0.012472 -0.006681   \n",
       "2390489   499   0.283405 -0.000156 -0.000156 -0.001375 -0.003702 -0.002004   \n",
       "\n",
       "         feature_0  feature_1  feature_2  ...  feature_122  feature_123  \\\n",
       "1               -1  -1.349537  -1.704709  ...    -1.178850     1.777472   \n",
       "4                1  -3.172026  -3.093182  ...     0.344850     4.101145   \n",
       "6               -1  -3.172026  -3.093182  ...     0.336873     4.076447   \n",
       "7               -1   0.446050  -0.466210  ...     2.101997     4.846202   \n",
       "8                1  -3.172026  -3.093182  ...     1.537913     4.785838   \n",
       "...            ...        ...        ...  ...          ...          ...   \n",
       "2390444         -1   1.538675   2.530447  ...    -0.984942     1.129901   \n",
       "2390446          1   0.270380  -1.231874  ...     1.724863    -0.984278   \n",
       "2390478         -1  -0.134380   0.160580  ...    -0.765664    -2.148415   \n",
       "2390481         -1  -0.779554  -0.597258  ...     1.173186    -1.215499   \n",
       "2390489         -1  -1.463757  -1.107228  ...    -1.780962     0.881246   \n",
       "\n",
       "         feature_124  feature_125  feature_126  feature_127  feature_128  \\\n",
       "1          -0.915458     2.831612    -1.417010     2.297459    -1.304614   \n",
       "4           0.614252     6.623456     0.800129     5.233243     0.362636   \n",
       "6           0.614783     6.622176     0.800618     5.231595     0.361506   \n",
       "7           1.479875     5.261328     2.305066     4.571762     2.201537   \n",
       "8           1.637435     6.968002     2.354338     5.825499     1.778029   \n",
       "...              ...          ...          ...          ...          ...   \n",
       "2390444    -1.632432    -2.169964    -2.371293    -0.889212    -1.554352   \n",
       "2390446     1.413825    -1.598825     2.087731    -1.126050     1.590538   \n",
       "2390478    -0.599358    -3.155134    -0.957971    -2.285314    -0.894580   \n",
       "2390481     0.170404    -3.433334     0.496345    -2.224752     1.207851   \n",
       "2390489    -2.202140    -1.912601    -3.341684    -0.571188    -2.185795   \n",
       "\n",
       "         feature_129    ts_id  action  \n",
       "1           1.898684        1       0  \n",
       "4           3.926633        4       0  \n",
       "6           3.921714        6       1  \n",
       "7           4.429745        7       1  \n",
       "8           4.740577        8       0  \n",
       "...              ...      ...     ...  \n",
       "2390444     0.215984  2390444       0  \n",
       "2390446    -1.250209  2390446       0  \n",
       "2390478    -2.064227  2390478       0  \n",
       "2390481    -1.264984  2390481       0  \n",
       "2390489     0.627452  2390489       0  \n",
       "\n",
       "[1981287 rows x 139 columns]"
      ]
     },
     "execution_count": 5,
     "metadata": {},
     "output_type": "execute_result"
    }
   ],
   "source": [
    "data_chunk"
   ]
  },
  {
   "cell_type": "code",
   "execution_count": 6,
   "metadata": {},
   "outputs": [
    {
     "data": {
      "text/plain": [
       "action\n",
       "1         999387\n",
       "0         981900\n",
       "dtype: int64"
      ]
     },
     "execution_count": 6,
     "metadata": {},
     "output_type": "execute_result"
    }
   ],
   "source": [
    "action.value_counts()"
   ]
  },
  {
   "cell_type": "code",
   "execution_count": 8,
   "metadata": {},
   "outputs": [],
   "source": [
    "action_transform = ((data_chunk['weight'].values * data_chunk['resp'].values) > 0).astype('int')"
   ]
  },
  {
   "cell_type": "code",
   "execution_count": 9,
   "metadata": {},
   "outputs": [
    {
     "data": {
      "text/plain": [
       "array([0, 0, 1, ..., 0, 0, 0])"
      ]
     },
     "execution_count": 9,
     "metadata": {},
     "output_type": "execute_result"
    }
   ],
   "source": [
    "action_transform"
   ]
  },
  {
   "cell_type": "code",
   "execution_count": 10,
   "metadata": {},
   "outputs": [
    {
     "data": {
      "text/plain": [
       "array([0, 0, 1, ..., 0, 0, 0], dtype=int64)"
      ]
     },
     "execution_count": 10,
     "metadata": {},
     "output_type": "execute_result"
    }
   ],
   "source": [
    "action.values.flatten()"
   ]
  },
  {
   "cell_type": "code",
   "execution_count": 11,
   "metadata": {},
   "outputs": [
    {
     "data": {
      "text/html": [
       "<div>\n",
       "<style scoped>\n",
       "    .dataframe tbody tr th:only-of-type {\n",
       "        vertical-align: middle;\n",
       "    }\n",
       "\n",
       "    .dataframe tbody tr th {\n",
       "        vertical-align: top;\n",
       "    }\n",
       "\n",
       "    .dataframe thead th {\n",
       "        text-align: right;\n",
       "    }\n",
       "</style>\n",
       "<table border=\"1\" class=\"dataframe\">\n",
       "  <thead>\n",
       "    <tr style=\"text-align: right;\">\n",
       "      <th></th>\n",
       "      <th>action</th>\n",
       "    </tr>\n",
       "  </thead>\n",
       "  <tbody>\n",
       "    <tr>\n",
       "      <th>1</th>\n",
       "      <td>0</td>\n",
       "    </tr>\n",
       "    <tr>\n",
       "      <th>4</th>\n",
       "      <td>0</td>\n",
       "    </tr>\n",
       "    <tr>\n",
       "      <th>6</th>\n",
       "      <td>1</td>\n",
       "    </tr>\n",
       "    <tr>\n",
       "      <th>7</th>\n",
       "      <td>1</td>\n",
       "    </tr>\n",
       "    <tr>\n",
       "      <th>8</th>\n",
       "      <td>0</td>\n",
       "    </tr>\n",
       "    <tr>\n",
       "      <th>9</th>\n",
       "      <td>1</td>\n",
       "    </tr>\n",
       "    <tr>\n",
       "      <th>10</th>\n",
       "      <td>0</td>\n",
       "    </tr>\n",
       "    <tr>\n",
       "      <th>11</th>\n",
       "      <td>0</td>\n",
       "    </tr>\n",
       "    <tr>\n",
       "      <th>12</th>\n",
       "      <td>0</td>\n",
       "    </tr>\n",
       "    <tr>\n",
       "      <th>13</th>\n",
       "      <td>0</td>\n",
       "    </tr>\n",
       "  </tbody>\n",
       "</table>\n",
       "</div>"
      ],
      "text/plain": [
       "    action\n",
       "1        0\n",
       "4        0\n",
       "6        1\n",
       "7        1\n",
       "8        0\n",
       "9        1\n",
       "10       0\n",
       "11       0\n",
       "12       0\n",
       "13       0"
      ]
     },
     "execution_count": 11,
     "metadata": {},
     "output_type": "execute_result"
    }
   ],
   "source": [
    "action[:10]"
   ]
  },
  {
   "cell_type": "markdown",
   "metadata": {},
   "source": [
    "### Part 2 : Model training with initial setting\n",
    "\n",
    "Model training . Imputer is not necessary needed for xgboost.\n",
    "\n",
    "With basic model , we fixed the params to run.\n",
    "\n",
    "If you are running xgboost on gpu , enable tree_method = 'gpu_hist' else run on normal CPU. "
   ]
  },
  {
   "cell_type": "code",
   "execution_count": 13,
   "metadata": {},
   "outputs": [
    {
     "name": "stdout",
     "output_type": "stream",
     "text": [
      "[0]\tvalidation_0-error:0.49118\n",
      "Will train until validation_0-error hasn't improved in 10 rounds.\n",
      "[100]\tvalidation_0-error:0.46318\n",
      "[200]\tvalidation_0-error:0.45621\n",
      "[300]\tvalidation_0-error:0.45222\n",
      "Stopping. Best iteration:\n",
      "[355]\tvalidation_0-error:0.44930\n",
      "\n",
      "--- 28.122357606887817 seconds ---\n"
     ]
    }
   ],
   "source": [
    "import xgboost as xgb\n",
    "import time\n",
    "\n",
    "\n",
    "train_X, test_X, train_y, test_y = train_test_split(feature, action.values.flatten(), test_size=0.25) # By default shuffle is true\n",
    "\n",
    "# my_imputer = SimpleImputer()\n",
    "# train_X = my_imputer.fit_transform(train_X)\n",
    "# test_X = my_imputer.transform(test_X)\n",
    "start_time = time.time()\n",
    "\n",
    "initial_model = xgb.XGBClassifier(n_estimators=1000, \n",
    "                        max_depth=5, \n",
    "                        learning_rate=0.1, \n",
    "                        subsample=0.7,\n",
    "                        colsample_bytree=0.8, \n",
    "                        colsample_bylevel=0.8, \n",
    "                        base_score=train_y.mean(),\n",
    "                        tree_method= 'gpu_hist',\n",
    "                        random_state=42, seed=42)\n",
    "\n",
    "init_mod = initial_model.fit(train_X, train_y, \n",
    "                    early_stopping_rounds=10, \n",
    "                    eval_set=[(test_X, test_y)], eval_metric='error', \n",
    "                    verbose=100)\n",
    "\n",
    "print(\"--- %s seconds ---\" % (time.time() - start_time))\n"
   ]
  },
  {
   "cell_type": "code",
   "execution_count": 14,
   "metadata": {},
   "outputs": [
    {
     "data": {
      "text/plain": [
       "Text(0.5, 1.0, 'Initial Model without tuning using Xgboost')"
      ]
     },
     "execution_count": 14,
     "metadata": {},
     "output_type": "execute_result"
    },
    {
     "data": {
      "image/png": "[encoded data removed]",
      "text/plain": [
       "<Figure size 432x288 with 2 Axes>"
      ]
     },
     "metadata": {
      "needs_background": "light"
     },
     "output_type": "display_data"
    }
   ],
   "source": [
    "class_names = ['pass','buy']\n",
    "\n",
    "disp = plot_confusion_matrix(init_mod, test_X, test_y,\n",
    "                             display_labels=class_names,\n",
    "                             cmap=plt.cm.Blues)\n",
    "plt.title('Initial Model without tuning using Xgboost')"
   ]
  },
  {
   "cell_type": "markdown",
   "metadata": {},
   "source": [
    "Initial result is decent where test data of 250k points. the losses will incurred when it's predicted __buy__ and it's actual __pass__.\n",
    "\n",
    "Ideal case for the market is to minimize losses where prediction false positive where true label is pass but predicted as buy and secondly maximizing profit where true positive is predicted buy and true label as buy.\n"
   ]
  },
  {
   "cell_type": "markdown",
   "metadata": {},
   "source": [
    "\n",
    "### Part 3: Model tuning using RandomizedSearchCv to search for best hyper parameter\n",
    "\n",
    "\n",
    "\n",
    "This run will take time , it took 155 minutes to run over 1500 fits with GPU on. \n",
    "* Please make sure you on GPU setting when you are running this.\n",
    "\n",
    "__This part will be commented out as it will take approximately 150 minutes to run__"
   ]
  },
  {
   "cell_type": "code",
   "execution_count": null,
   "metadata": {},
   "outputs": [],
   "source": [
    "# from sklearn.model_selection import RandomizedSearchCV\n",
    "# params = {\n",
    "#         'learning_rate': [0.03, 0.01, 0.003, 0.001],\n",
    "#         'min_child_weight': [1,3, 5,7, 10],\n",
    "#         'gamma': [0, 0.5, 1, 1.5, 2, 2.5, 5],\n",
    "#         'subsample': [0.6, 0.8, 1.0, 1.2, 1.4],\n",
    "#         'colsample_bytree': [0.6, 0.8, 1.0, 1.2, 1.4],\n",
    "#         'max_depth': [3, 4, 5, 6, 7, 8, 9 ,10, 12, 14],\n",
    "#         'reg_lambda':np.array([0.4, 0.6, 0.8, 1, 1.2, 1.4])}\n",
    "\n",
    "# # specific parameters. I set early stopping to avoid overfitting and specify the validation dataset \n",
    "# fit_params = { \n",
    "#         'early_stopping_rounds':10,\n",
    "#         'eval_set':[(test_X, test_y)]}\n",
    "\n",
    "# # let's run the optimization\n",
    "# random_search = RandomizedSearchCV(init_mod, param_distributions=params, n_iter=500,\n",
    "#                                    scoring=\"precision\", n_jobs=-1,  verbose=3, random_state=42, cv=3 )\n"
   ]
  },
  {
   "cell_type": "code",
   "execution_count": null,
   "metadata": {},
   "outputs": [],
   "source": [
    "# random_search.fit(train_X,train_y, **fit_params)\n",
    "# print(\" Results from Random Search \" )\n",
    "# print(\"\\n The best estimator across ALL searched params:\\n\", random_search.best_estimator_)\n",
    "# print(\"\\n The best score across ALL searched params:\\n\", random_search.best_score_)\n",
    "# print(\"\\n The best parameters across ALL searched params:\\n\", random_search.best_params_)"
   ]
  },
  {
   "cell_type": "markdown",
   "metadata": {},
   "source": [
    "### Part 4:  Model training with best hyper-parameter result"
   ]
  },
  {
   "cell_type": "code",
   "execution_count": null,
   "metadata": {},
   "outputs": [],
   "source": [
    "import xgboost as xgb\n",
    "import time\n",
    "\n",
    "\n",
    "\n",
    "train_X, test_X, train_y, test_y = train_test_split(feature, action.values.flatten(), test_size=0.25) # By default shuffle is true\n",
    "\n",
    "# my_imputer = SimpleImputer()\n",
    "# train_X = my_imputer.fit_transform(train_X)\n",
    "# test_X = my_imputer.transform(test_X)\n",
    "start_time = time.time()\n",
    "\n",
    "tuned_model = xgb.XGBClassifier(n_estimators=1000, \n",
    "                        max_depth=14, \n",
    "                        learning_rate=0.01, \n",
    "                        subsample=1,\n",
    "                        colsample_bytree=0.8, \n",
    "                        colsample_bylevel=0.8, \n",
    "                        gamma=0.5,reg_lambda = 1.4,\n",
    "                        base_score=train_y.mean(),\n",
    "                        tree_method= 'gpu_hist',\n",
    "                        random_state=42, seed=42)\n",
    "\n",
    "\n",
    "tuned_mod = tuned_model.fit(train_X, train_y, \n",
    "                    early_stopping_rounds=10, \n",
    "                    eval_set=[(test_X, test_y)], eval_metric='error', \n",
    "                    verbose=100)\n",
    "\n",
    "print(\"--- %s seconds ---\" % (time.time() - start_time))\n"
   ]
  },
  {
   "cell_type": "code",
   "execution_count": null,
   "metadata": {},
   "outputs": [],
   "source": [
    "class_names = ['pass','buy']\n",
    "\n",
    "disp = plot_confusion_matrix(tuned_mod, test_X, test_y,\n",
    "                             display_labels=class_names,\n",
    "                             cmap=plt.cm.Blues)\n",
    "plt.title('Tuned Model')"
   ]
  },
  {
   "cell_type": "markdown",
   "metadata": {},
   "source": [
    "### Part 5: Model error comparison between initial Xgboost classifer model and tuned hyperparameter xgboost classifier model"
   ]
  },
  {
   "cell_type": "code",
   "execution_count": null,
   "metadata": {},
   "outputs": [],
   "source": [
    "\n",
    "init_model_res = init_mod.evals_result()\n",
    "tuned_model_res = tuned_mod.evals_result()\n",
    "epochs_init = len(init_model_res['validation_0']['error'])\n",
    "epochs_tuned = len(tuned_model_res['validation_0']['error'])\n",
    "x_axis_init = range(0, epochs_init)\n",
    "x_axis_tuned = range(0,epochs_tuned)\n",
    "# plot classification error\n",
    "fig, ax = plt.subplots()\n",
    "ax.plot(x_axis_init, init_model_res['validation_0']['error'], label='Initial classification error')\n",
    "ax.plot(x_axis_tuned, tuned_model_res['validation_0']['error'], label='Tuned classification error')\n",
    "\n",
    "ax.legend()\n",
    "plt.ylabel('Classification Error')\n",
    "plt.title('XGBoost Classification error on test data')\n",
    "plt.show()"
   ]
  },
  {
   "cell_type": "markdown",
   "metadata": {},
   "source": [
    "### Part 6: Tuned-model feature importance visualization"
   ]
  },
  {
   "cell_type": "code",
   "execution_count": null,
   "metadata": {},
   "outputs": [],
   "source": [
    "import matplotlib.pyplot as plt\n",
    "from xgboost import plot_importance\n",
    "print(tuned_mod.get_booster().get_score(importance_type='weight'))\n",
    "\n",
    "fig,ax = plt.subplots(figsize=(15,15))\n",
    "plot_importance(tuned_mod,ax=ax,max_num_features=10)\n",
    "plt.show()"
   ]
  },
  {
   "cell_type": "code",
   "execution_count": 1,
   "metadata": {},
   "outputs": [],
   "source": [
    "import torch"
   ]
  },
  {
   "cell_type": "code",
   "execution_count": null,
   "metadata": {},
   "outputs": [],
   "source": [
    "test_df.iloc[:,2:].values"
   ]
  },
  {
   "cell_type": "code",
   "execution_count": null,
   "metadata": {},
   "outputs": [],
   "source": []
  },
  {
   "cell_type": "code",
   "execution_count": null,
   "metadata": {},
   "outputs": [],
   "source": [
    "env = janestreet.make_env() # initialize the environment\n",
    "iter_test = env.iter_test() # an iterator which loops over the test set\n",
    "\n",
    "for (test_df, sample_prediction_df) in iter_test:\n",
    "    sample_prediction_df.action = tuned_mod.predict(test_df.iloc[:,2:].values)\n",
    "    env.predict(sample_prediction_df)\n"
   ]
  }
 ],
 "metadata": {
  "kernelspec": {
   "display_name": "Python 3",
   "language": "python",
   "name": "python3"
  },
  "language_info": {
   "codemirror_mode": {
    "name": "ipython",
    "version": 3
   },
   "file_extension": ".py",
   "mimetype": "text/x-python",
   "name": "python",
   "nbconvert_exporter": "python",
   "pygments_lexer": "ipython3",
   "version": "3.7.9"
  }
 },
 "nbformat": 4,
 "nbformat_minor": 4
}
